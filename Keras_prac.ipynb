{
  "nbformat": 4,
  "nbformat_minor": 0,
  "metadata": {
    "colab": {
      "name": "Keras_prac.ipynb",
      "provenance": [],
      "collapsed_sections": []
    },
    "kernelspec": {
      "name": "python3",
      "display_name": "Python 3"
    },
    "language_info": {
      "name": "python"
    }
  },
  "cells": [
    {
      "cell_type": "code",
      "metadata": {
        "id": "Ww0WTN90UmPF"
      },
      "source": [
        "import tensorflow as tf\n",
        "from tensorflow import keras"
      ],
      "execution_count": null,
      "outputs": []
    },
    {
      "cell_type": "code",
      "metadata": {
        "colab": {
          "base_uri": "https://localhost:8080/"
        },
        "id": "Ra51fs5LVAwP",
        "outputId": "01746bd9-2d04-4c76-a400-8302d6191701"
      },
      "source": [
        "pip install -q -U keras-tuner"
      ],
      "execution_count": null,
      "outputs": [
        {
          "output_type": "stream",
          "text": [
            "\u001b[?25l\r\u001b[K     |█████▏                          | 10kB 15.4MB/s eta 0:00:01\r\u001b[K     |██████████▍                     | 20kB 20.7MB/s eta 0:00:01\r\u001b[K     |███████████████▋                | 30kB 12.6MB/s eta 0:00:01\r\u001b[K     |████████████████████▉           | 40kB 9.3MB/s eta 0:00:01\r\u001b[K     |██████████████████████████      | 51kB 5.7MB/s eta 0:00:01\r\u001b[K     |███████████████████████████████▎| 61kB 6.4MB/s eta 0:00:01\r\u001b[K     |████████████████████████████████| 71kB 4.1MB/s \n",
            "\u001b[?25h  Building wheel for keras-tuner (setup.py) ... \u001b[?25l\u001b[?25hdone\n",
            "  Building wheel for terminaltables (setup.py) ... \u001b[?25l\u001b[?25hdone\n"
          ],
          "name": "stdout"
        }
      ]
    },
    {
      "cell_type": "markdown",
      "metadata": {
        "id": "iB2Ne0yVVBlJ"
      },
      "source": [
        ""
      ]
    },
    {
      "cell_type": "code",
      "metadata": {
        "id": "wOSenBL8Us8U"
      },
      "source": [
        "import kerastuner as kt"
      ],
      "execution_count": null,
      "outputs": []
    },
    {
      "cell_type": "markdown",
      "metadata": {
        "id": "k4Ym9DLmSMzo"
      },
      "source": [
        "# Classifying bank customers based on their previous bank activities, that they will exit/leave the bank or not"
      ]
    },
    {
      "cell_type": "markdown",
      "metadata": {
        "id": "WzP3PHTWSbu2"
      },
      "source": [
        "# **\n",
        "AIM:\n",
        "\n",
        "Goal is to make an Artificial Neural Network that can predict, based on geo-demographical and transactional information given above, if any individual customer will leave the bank or stay (customer churn). Also, rank all the customers of the bank, based on their probability of leaving."
      ]
    },
    {
      "cell_type": "markdown",
      "metadata": {
        "id": "m_3ljpHTXOEC"
      },
      "source": [
        "Dataset Datails:\n",
        "\n",
        "This Dataset contains 14 columns which are information regarding customers including our target varible.During a period of 6 months, the bank observed if these customers left or stayed in the bank."
      ]
    },
    {
      "cell_type": "code",
      "metadata": {
        "id": "A3E830aquZxd"
      },
      "source": [
        "#importing libraries numpy for mathematical computation\n",
        "#and pandas for managing dataset\n",
        "\n",
        "\n",
        "import numpy as np\n",
        "import pandas as pd"
      ],
      "execution_count": null,
      "outputs": []
    },
    {
      "cell_type": "code",
      "metadata": {
        "id": "6RNQUYKVugkC",
        "colab": {
          "base_uri": "https://localhost:8080/",
          "height": 224
        },
        "outputId": "e3e6962d-addf-4e3f-84ec-ae95027de1a1"
      },
      "source": [
        "# Reading dataset\n",
        "\n",
        "df=pd.read_csv(\"/content/drive/MyDrive/Churn_Modelling.csv\")\n",
        "df.head()\n"
      ],
      "execution_count": null,
      "outputs": [
        {
          "output_type": "execute_result",
          "data": {
            "text/html": [
              "<div>\n",
              "<style scoped>\n",
              "    .dataframe tbody tr th:only-of-type {\n",
              "        vertical-align: middle;\n",
              "    }\n",
              "\n",
              "    .dataframe tbody tr th {\n",
              "        vertical-align: top;\n",
              "    }\n",
              "\n",
              "    .dataframe thead th {\n",
              "        text-align: right;\n",
              "    }\n",
              "</style>\n",
              "<table border=\"1\" class=\"dataframe\">\n",
              "  <thead>\n",
              "    <tr style=\"text-align: right;\">\n",
              "      <th></th>\n",
              "      <th>RowNumber</th>\n",
              "      <th>CustomerId</th>\n",
              "      <th>Surname</th>\n",
              "      <th>CreditScore</th>\n",
              "      <th>Geography</th>\n",
              "      <th>Gender</th>\n",
              "      <th>Age</th>\n",
              "      <th>Tenure</th>\n",
              "      <th>Balance</th>\n",
              "      <th>NumOfProducts</th>\n",
              "      <th>HasCrCard</th>\n",
              "      <th>IsActiveMember</th>\n",
              "      <th>EstimatedSalary</th>\n",
              "      <th>Exited</th>\n",
              "    </tr>\n",
              "  </thead>\n",
              "  <tbody>\n",
              "    <tr>\n",
              "      <th>0</th>\n",
              "      <td>1</td>\n",
              "      <td>15634602</td>\n",
              "      <td>Hargrave</td>\n",
              "      <td>619</td>\n",
              "      <td>France</td>\n",
              "      <td>Female</td>\n",
              "      <td>42</td>\n",
              "      <td>2</td>\n",
              "      <td>0.00</td>\n",
              "      <td>1</td>\n",
              "      <td>1</td>\n",
              "      <td>1</td>\n",
              "      <td>101348.88</td>\n",
              "      <td>1</td>\n",
              "    </tr>\n",
              "    <tr>\n",
              "      <th>1</th>\n",
              "      <td>2</td>\n",
              "      <td>15647311</td>\n",
              "      <td>Hill</td>\n",
              "      <td>608</td>\n",
              "      <td>Spain</td>\n",
              "      <td>Female</td>\n",
              "      <td>41</td>\n",
              "      <td>1</td>\n",
              "      <td>83807.86</td>\n",
              "      <td>1</td>\n",
              "      <td>0</td>\n",
              "      <td>1</td>\n",
              "      <td>112542.58</td>\n",
              "      <td>0</td>\n",
              "    </tr>\n",
              "    <tr>\n",
              "      <th>2</th>\n",
              "      <td>3</td>\n",
              "      <td>15619304</td>\n",
              "      <td>Onio</td>\n",
              "      <td>502</td>\n",
              "      <td>France</td>\n",
              "      <td>Female</td>\n",
              "      <td>42</td>\n",
              "      <td>8</td>\n",
              "      <td>159660.80</td>\n",
              "      <td>3</td>\n",
              "      <td>1</td>\n",
              "      <td>0</td>\n",
              "      <td>113931.57</td>\n",
              "      <td>1</td>\n",
              "    </tr>\n",
              "    <tr>\n",
              "      <th>3</th>\n",
              "      <td>4</td>\n",
              "      <td>15701354</td>\n",
              "      <td>Boni</td>\n",
              "      <td>699</td>\n",
              "      <td>France</td>\n",
              "      <td>Female</td>\n",
              "      <td>39</td>\n",
              "      <td>1</td>\n",
              "      <td>0.00</td>\n",
              "      <td>2</td>\n",
              "      <td>0</td>\n",
              "      <td>0</td>\n",
              "      <td>93826.63</td>\n",
              "      <td>0</td>\n",
              "    </tr>\n",
              "    <tr>\n",
              "      <th>4</th>\n",
              "      <td>5</td>\n",
              "      <td>15737888</td>\n",
              "      <td>Mitchell</td>\n",
              "      <td>850</td>\n",
              "      <td>Spain</td>\n",
              "      <td>Female</td>\n",
              "      <td>43</td>\n",
              "      <td>2</td>\n",
              "      <td>125510.82</td>\n",
              "      <td>1</td>\n",
              "      <td>1</td>\n",
              "      <td>1</td>\n",
              "      <td>79084.10</td>\n",
              "      <td>0</td>\n",
              "    </tr>\n",
              "  </tbody>\n",
              "</table>\n",
              "</div>"
            ],
            "text/plain": [
              "   RowNumber  CustomerId   Surname  ...  IsActiveMember EstimatedSalary Exited\n",
              "0          1    15634602  Hargrave  ...               1       101348.88      1\n",
              "1          2    15647311      Hill  ...               1       112542.58      0\n",
              "2          3    15619304      Onio  ...               0       113931.57      1\n",
              "3          4    15701354      Boni  ...               0        93826.63      0\n",
              "4          5    15737888  Mitchell  ...               1        79084.10      0\n",
              "\n",
              "[5 rows x 14 columns]"
            ]
          },
          "metadata": {
            "tags": []
          },
          "execution_count": 41
        }
      ]
    },
    {
      "cell_type": "code",
      "metadata": {
        "id": "S7po9vi6u4HL"
      },
      "source": [
        "# Importing essential libraries for visualizations\n",
        "import matplotlib.pyplot as plt\n",
        "import seaborn as sns\n",
        "%matplotlib inline"
      ],
      "execution_count": null,
      "outputs": []
    },
    {
      "cell_type": "code",
      "metadata": {
        "id": "xa8GYFaTu8cR",
        "colab": {
          "base_uri": "https://localhost:8080/",
          "height": 513
        },
        "outputId": "d9bcbec7-66cb-4556-b90d-8c2b6f9dc18b"
      },
      "source": [
        "# Visualizing the count of 'exited customers' in the dataset\n",
        "plt.figure(figsize=(8,8))\n",
        "sns.countplot(x='Exited', data=df)\n",
        "plt.xlabel('0: Customers still with the bank, 1: Customers exited the bank')\n",
        "plt.ylabel('Count')\n",
        "plt.title('Bank Customers Churn Visualization')\n",
        "plt.show()"
      ],
      "execution_count": null,
      "outputs": [
        {
          "output_type": "display_data",
          "data": {
            "image/png": "[encoded data removed]",
            "text/plain": [
              "<Figure size 576x576 with 1 Axes>"
            ]
          },
          "metadata": {
            "tags": [],
            "needs_background": "light"
          }
        }
      ]
    },
    {
      "cell_type": "code",
      "metadata": {
        "id": "feEJbfiUvAog",
        "colab": {
          "base_uri": "https://localhost:8080/"
        },
        "outputId": "77b496bb-0172-460f-c955-58d91cd8a56b"
      },
      "source": [
        "# checking if their is any null values in data\n",
        "\n",
        "df.isna().any()"
      ],
      "execution_count": null,
      "outputs": [
        {
          "output_type": "execute_result",
          "data": {
            "text/plain": [
              "RowNumber          False\n",
              "CustomerId         False\n",
              "Surname            False\n",
              "CreditScore        False\n",
              "Geography          False\n",
              "Gender             False\n",
              "Age                False\n",
              "Tenure             False\n",
              "Balance            False\n",
              "NumOfProducts      False\n",
              "HasCrCard          False\n",
              "IsActiveMember     False\n",
              "EstimatedSalary    False\n",
              "Exited             False\n",
              "dtype: bool"
            ]
          },
          "metadata": {
            "tags": []
          },
          "execution_count": 13
        }
      ]
    },
    {
      "cell_type": "code",
      "metadata": {
        "id": "dTTbqNauvEaZ",
        "colab": {
          "base_uri": "https://localhost:8080/"
        },
        "outputId": "33500db3-a134-4abb-d19d-abb144aa814c"
      },
      "source": [
        "# Dropping the columns which are not needed in analysis\n",
        "\n",
        "df.drop(['RowNumber','CustomerId','Surname'], axis=1, inplace=True)\n",
        "df.columns"
      ],
      "execution_count": null,
      "outputs": [
        {
          "output_type": "execute_result",
          "data": {
            "text/plain": [
              "Index(['CreditScore', 'Geography', 'Gender', 'Age', 'Tenure', 'Balance',\n",
              "       'NumOfProducts', 'HasCrCard', 'IsActiveMember', 'EstimatedSalary',\n",
              "       'Exited'],\n",
              "      dtype='object')"
            ]
          },
          "metadata": {
            "tags": []
          },
          "execution_count": 14
        }
      ]
    },
    {
      "cell_type": "code",
      "metadata": {
        "id": "Co0nNyjxvHII"
      },
      "source": [
        "# Converting 'Geography' and 'Gender' column\n",
        "geography = pd.get_dummies(df['Geography'], drop_first=True)\n",
        "gender = pd.get_dummies(df['Gender'], drop_first=True)"
      ],
      "execution_count": null,
      "outputs": []
    },
    {
      "cell_type": "code",
      "metadata": {
        "id": "HipLssHqvKRH",
        "colab": {
          "base_uri": "https://localhost:8080/"
        },
        "outputId": "5e132157-6247-4a4c-ddaa-2e9940bd422c"
      },
      "source": [
        "# Appending columns to original dataframe\n",
        "df = pd.concat([df, geography, gender], axis=1)\n",
        "df.columns"
      ],
      "execution_count": null,
      "outputs": [
        {
          "output_type": "execute_result",
          "data": {
            "text/plain": [
              "Index(['CreditScore', 'Geography', 'Gender', 'Age', 'Tenure', 'Balance',\n",
              "       'NumOfProducts', 'HasCrCard', 'IsActiveMember', 'EstimatedSalary',\n",
              "       'Exited', 'Germany', 'Spain', 'Male'],\n",
              "      dtype='object')"
            ]
          },
          "metadata": {
            "tags": []
          },
          "execution_count": 16
        }
      ]
    },
    {
      "cell_type": "code",
      "metadata": {
        "id": "85MYj1fIvMfo"
      },
      "source": [
        "df.drop(['Geography', 'Gender'], axis=1, inplace=True)"
      ],
      "execution_count": null,
      "outputs": []
    },
    {
      "cell_type": "code",
      "metadata": {
        "id": "P66RBPUMvPee"
      },
      "source": [
        "X = df.drop('Exited', axis=1)\n",
        "y = df['Exited']"
      ],
      "execution_count": null,
      "outputs": []
    },
    {
      "cell_type": "code",
      "metadata": {
        "id": "fR9SycTRvSY-",
        "colab": {
          "base_uri": "https://localhost:8080/"
        },
        "outputId": "cfb13fc0-2c9a-45a9-fa9f-06ba2992e055"
      },
      "source": [
        "# Splitting the dataset into train and test sets.\n",
        "from sklearn.model_selection import train_test_split\n",
        "X_train, X_test, y_train, y_test = train_test_split(X, y, test_size=0.20, random_state=0)\n",
        "print('X_train size: {}, X_test size: {}'.format(X_train.shape, X_test.shape))"
      ],
      "execution_count": null,
      "outputs": [
        {
          "output_type": "stream",
          "text": [
            "X_train size: (8000, 11), X_test size: (2000, 11)\n"
          ],
          "name": "stdout"
        }
      ]
    },
    {
      "cell_type": "code",
      "metadata": {
        "id": "cYU4faRmvVEG"
      },
      "source": [
        "# Feature Scaling\n",
        "from sklearn.preprocessing import StandardScaler\n",
        "sc = StandardScaler()\n",
        "X_train = sc.fit_transform(X_train)\n",
        "X_test = sc.transform(X_test)"
      ],
      "execution_count": null,
      "outputs": []
    },
    {
      "cell_type": "markdown",
      "metadata": {
        "id": "eBdMN1VXTpYJ"
      },
      "source": [
        "**Building Artificial Neural Network(ANN):**\n",
        "ANN is the main tool used in machine  learning .It is similar to the neural network of human being .In ANN we mainly have 3 layers :input layer,hidden layer and output layer. We can have more then one hiden layer. Input layer is connected to hidden layer by weights and in hidden layer the input get multiplied by weight and bias is added and then it will get pass through activation function .this process happens for each neuron in hidden layers until output layer is reached.\n",
        "\n",
        "Output layer gives us our y_predicted value . We calculate the loss by comparing actual value and predicted value . Loss should always be less .\n",
        "\n",
        "In order to minimize the loss ,we backpropagate and in backpropagation our weight is adjusted in such a way that our loss should be mininmum .\n",
        "The network propagate forward and backward until our loss is minimum.\n"
      ]
    },
    {
      "cell_type": "code",
      "metadata": {
        "id": "4iDAR8LZvX7m"
      },
      "source": [
        "# Importing the Keras libraries and packages\n",
        "import keras\n",
        "from keras.models import Sequential\n",
        "from keras.layers import Dense"
      ],
      "execution_count": null,
      "outputs": []
    },
    {
      "cell_type": "code",
      "metadata": {
        "id": "HVD3K2iOvbOt"
      },
      "source": [
        "# Initialising the ANN\n",
        "classifier = Sequential()"
      ],
      "execution_count": null,
      "outputs": []
    },
    {
      "cell_type": "code",
      "metadata": {
        "id": "lwIEoRAOvdgt"
      },
      "source": [
        "# Adding the input layer and the first hidden layer\n",
        "classifier.add(Dense(units=6, kernel_initializer='he_uniform', activation='relu', input_dim=11))"
      ],
      "execution_count": null,
      "outputs": []
    },
    {
      "cell_type": "code",
      "metadata": {
        "id": "MRh3I2_gvf_U"
      },
      "source": [
        "# Adding the second hidden layer\n",
        "classifier.add(Dense(units=6, kernel_initializer='he_uniform', activation='relu'))"
      ],
      "execution_count": null,
      "outputs": []
    },
    {
      "cell_type": "code",
      "metadata": {
        "id": "wZXp7LUVviyV"
      },
      "source": [
        "# Adding the output layer\n",
        "classifier.add(Dense(units=1, kernel_initializer='glorot_uniform', activation='sigmoid'))"
      ],
      "execution_count": null,
      "outputs": []
    },
    {
      "cell_type": "code",
      "metadata": {
        "id": "nXR4JJKnvlPN"
      },
      "source": [
        "# Compiling the ANN\n",
        "classifier.compile(optimizer='adam', loss='binary_crossentropy', metrics=['accuracy'])"
      ],
      "execution_count": null,
      "outputs": []
    },
    {
      "cell_type": "code",
      "metadata": {
        "id": "LxOhRRlHvoDk",
        "colab": {
          "base_uri": "https://localhost:8080/"
        },
        "outputId": "f2800035-3ecb-4b44-a57f-939ec8dc1355"
      },
      "source": [
        "# Fitting the ANN to the Training set\n",
        "model_history = classifier.fit(X_train, y_train, batch_size=10, validation_split=0.33, epochs=100)"
      ],
      "execution_count": null,
      "outputs": [
        {
          "output_type": "stream",
          "text": [
            "Epoch 1/100\n",
            "536/536 [==============================] - 15s 3ms/step - loss: 0.5571 - accuracy: 0.7536 - val_loss: 0.4715 - val_accuracy: 0.7955\n",
            "Epoch 2/100\n",
            "536/536 [==============================] - 1s 2ms/step - loss: 0.4750 - accuracy: 0.7866 - val_loss: 0.4590 - val_accuracy: 0.7955\n",
            "Epoch 3/100\n",
            "536/536 [==============================] - 1s 2ms/step - loss: 0.4474 - accuracy: 0.7946 - val_loss: 0.4492 - val_accuracy: 0.7914\n",
            "Epoch 4/100\n",
            "536/536 [==============================] - 1s 2ms/step - loss: 0.4313 - accuracy: 0.8023 - val_loss: 0.4448 - val_accuracy: 0.8008\n",
            "Epoch 5/100\n",
            "536/536 [==============================] - 1s 2ms/step - loss: 0.4336 - accuracy: 0.8027 - val_loss: 0.4414 - val_accuracy: 0.8001\n",
            "Epoch 6/100\n",
            "536/536 [==============================] - 1s 2ms/step - loss: 0.4318 - accuracy: 0.8032 - val_loss: 0.4394 - val_accuracy: 0.8088\n",
            "Epoch 7/100\n",
            "536/536 [==============================] - 1s 2ms/step - loss: 0.4356 - accuracy: 0.8091 - val_loss: 0.4380 - val_accuracy: 0.8099\n",
            "Epoch 8/100\n",
            "536/536 [==============================] - 1s 2ms/step - loss: 0.4187 - accuracy: 0.8221 - val_loss: 0.4355 - val_accuracy: 0.8065\n",
            "Epoch 9/100\n",
            "536/536 [==============================] - 1s 2ms/step - loss: 0.4195 - accuracy: 0.8232 - val_loss: 0.4331 - val_accuracy: 0.8099\n",
            "Epoch 10/100\n",
            "536/536 [==============================] - 1s 2ms/step - loss: 0.4040 - accuracy: 0.8310 - val_loss: 0.4316 - val_accuracy: 0.8122\n",
            "Epoch 11/100\n",
            "536/536 [==============================] - 1s 2ms/step - loss: 0.4170 - accuracy: 0.8265 - val_loss: 0.4296 - val_accuracy: 0.8156\n",
            "Epoch 12/100\n",
            "536/536 [==============================] - 1s 2ms/step - loss: 0.4061 - accuracy: 0.8406 - val_loss: 0.4301 - val_accuracy: 0.8065\n",
            "Epoch 13/100\n",
            "536/536 [==============================] - 1s 2ms/step - loss: 0.3992 - accuracy: 0.8370 - val_loss: 0.4278 - val_accuracy: 0.8186\n",
            "Epoch 14/100\n",
            "536/536 [==============================] - 1s 2ms/step - loss: 0.4200 - accuracy: 0.8228 - val_loss: 0.4275 - val_accuracy: 0.8190\n",
            "Epoch 15/100\n",
            "536/536 [==============================] - 1s 2ms/step - loss: 0.3933 - accuracy: 0.8345 - val_loss: 0.4270 - val_accuracy: 0.8145\n",
            "Epoch 16/100\n",
            "536/536 [==============================] - 1s 2ms/step - loss: 0.3891 - accuracy: 0.8395 - val_loss: 0.4271 - val_accuracy: 0.8148\n",
            "Epoch 17/100\n",
            "536/536 [==============================] - 1s 2ms/step - loss: 0.4059 - accuracy: 0.8306 - val_loss: 0.4253 - val_accuracy: 0.8160\n",
            "Epoch 18/100\n",
            "536/536 [==============================] - 1s 2ms/step - loss: 0.3945 - accuracy: 0.8407 - val_loss: 0.4263 - val_accuracy: 0.8145\n",
            "Epoch 19/100\n",
            "536/536 [==============================] - 1s 2ms/step - loss: 0.3996 - accuracy: 0.8346 - val_loss: 0.4250 - val_accuracy: 0.8171\n",
            "Epoch 20/100\n",
            "536/536 [==============================] - 1s 2ms/step - loss: 0.3972 - accuracy: 0.8338 - val_loss: 0.4236 - val_accuracy: 0.8167\n",
            "Epoch 21/100\n",
            "536/536 [==============================] - 1s 2ms/step - loss: 0.3905 - accuracy: 0.8408 - val_loss: 0.4216 - val_accuracy: 0.8201\n",
            "Epoch 22/100\n",
            "536/536 [==============================] - 1s 2ms/step - loss: 0.3904 - accuracy: 0.8467 - val_loss: 0.4196 - val_accuracy: 0.8186\n",
            "Epoch 23/100\n",
            "536/536 [==============================] - 1s 2ms/step - loss: 0.3861 - accuracy: 0.8446 - val_loss: 0.4204 - val_accuracy: 0.8148\n",
            "Epoch 24/100\n",
            "536/536 [==============================] - 1s 2ms/step - loss: 0.3874 - accuracy: 0.8410 - val_loss: 0.4169 - val_accuracy: 0.8190\n",
            "Epoch 25/100\n",
            "536/536 [==============================] - 1s 2ms/step - loss: 0.3794 - accuracy: 0.8453 - val_loss: 0.4168 - val_accuracy: 0.8186\n",
            "Epoch 26/100\n",
            "536/536 [==============================] - 1s 2ms/step - loss: 0.3792 - accuracy: 0.8429 - val_loss: 0.4122 - val_accuracy: 0.8224\n",
            "Epoch 27/100\n",
            "536/536 [==============================] - 1s 2ms/step - loss: 0.3737 - accuracy: 0.8467 - val_loss: 0.4085 - val_accuracy: 0.8277\n",
            "Epoch 28/100\n",
            "536/536 [==============================] - 1s 2ms/step - loss: 0.3784 - accuracy: 0.8471 - val_loss: 0.4056 - val_accuracy: 0.8277\n",
            "Epoch 29/100\n",
            "536/536 [==============================] - 1s 2ms/step - loss: 0.3670 - accuracy: 0.8526 - val_loss: 0.4033 - val_accuracy: 0.8292\n",
            "Epoch 30/100\n",
            "536/536 [==============================] - 1s 2ms/step - loss: 0.3632 - accuracy: 0.8550 - val_loss: 0.3982 - val_accuracy: 0.8319\n",
            "Epoch 31/100\n",
            "536/536 [==============================] - 1s 2ms/step - loss: 0.3623 - accuracy: 0.8567 - val_loss: 0.3958 - val_accuracy: 0.8342\n",
            "Epoch 32/100\n",
            "536/536 [==============================] - 1s 2ms/step - loss: 0.3751 - accuracy: 0.8470 - val_loss: 0.3922 - val_accuracy: 0.8395\n",
            "Epoch 33/100\n",
            "536/536 [==============================] - 1s 2ms/step - loss: 0.3581 - accuracy: 0.8536 - val_loss: 0.3882 - val_accuracy: 0.8398\n",
            "Epoch 34/100\n",
            "536/536 [==============================] - 1s 2ms/step - loss: 0.3496 - accuracy: 0.8599 - val_loss: 0.3844 - val_accuracy: 0.8410\n",
            "Epoch 35/100\n",
            "536/536 [==============================] - 1s 2ms/step - loss: 0.3628 - accuracy: 0.8570 - val_loss: 0.3823 - val_accuracy: 0.8406\n",
            "Epoch 36/100\n",
            "536/536 [==============================] - 1s 2ms/step - loss: 0.3597 - accuracy: 0.8524 - val_loss: 0.3823 - val_accuracy: 0.8395\n",
            "Epoch 37/100\n",
            "536/536 [==============================] - 1s 2ms/step - loss: 0.3461 - accuracy: 0.8622 - val_loss: 0.3778 - val_accuracy: 0.8421\n",
            "Epoch 38/100\n",
            "536/536 [==============================] - 1s 2ms/step - loss: 0.3506 - accuracy: 0.8559 - val_loss: 0.3784 - val_accuracy: 0.8429\n",
            "Epoch 39/100\n",
            "536/536 [==============================] - 1s 2ms/step - loss: 0.3434 - accuracy: 0.8616 - val_loss: 0.3745 - val_accuracy: 0.8421\n",
            "Epoch 40/100\n",
            "536/536 [==============================] - 1s 2ms/step - loss: 0.3541 - accuracy: 0.8550 - val_loss: 0.3746 - val_accuracy: 0.8432\n",
            "Epoch 41/100\n",
            "536/536 [==============================] - 1s 2ms/step - loss: 0.3338 - accuracy: 0.8653 - val_loss: 0.3730 - val_accuracy: 0.8417\n",
            "Epoch 42/100\n",
            "536/536 [==============================] - 1s 2ms/step - loss: 0.3435 - accuracy: 0.8590 - val_loss: 0.3715 - val_accuracy: 0.8440\n",
            "Epoch 43/100\n",
            "536/536 [==============================] - 1s 2ms/step - loss: 0.3351 - accuracy: 0.8639 - val_loss: 0.3719 - val_accuracy: 0.8440\n",
            "Epoch 44/100\n",
            "536/536 [==============================] - 1s 2ms/step - loss: 0.3433 - accuracy: 0.8588 - val_loss: 0.3713 - val_accuracy: 0.8463\n",
            "Epoch 45/100\n",
            "536/536 [==============================] - 1s 2ms/step - loss: 0.3439 - accuracy: 0.8634 - val_loss: 0.3705 - val_accuracy: 0.8429\n",
            "Epoch 46/100\n",
            "536/536 [==============================] - 1s 2ms/step - loss: 0.3330 - accuracy: 0.8652 - val_loss: 0.3703 - val_accuracy: 0.8463\n",
            "Epoch 47/100\n",
            "536/536 [==============================] - 1s 2ms/step - loss: 0.3367 - accuracy: 0.8614 - val_loss: 0.3699 - val_accuracy: 0.8448\n",
            "Epoch 48/100\n",
            "536/536 [==============================] - 1s 2ms/step - loss: 0.3399 - accuracy: 0.8581 - val_loss: 0.3704 - val_accuracy: 0.8429\n",
            "Epoch 49/100\n",
            "536/536 [==============================] - 1s 2ms/step - loss: 0.3166 - accuracy: 0.8734 - val_loss: 0.3683 - val_accuracy: 0.8451\n",
            "Epoch 50/100\n",
            "536/536 [==============================] - 1s 2ms/step - loss: 0.3285 - accuracy: 0.8618 - val_loss: 0.3673 - val_accuracy: 0.8429\n",
            "Epoch 51/100\n",
            "536/536 [==============================] - 1s 2ms/step - loss: 0.3350 - accuracy: 0.8571 - val_loss: 0.3673 - val_accuracy: 0.8425\n",
            "Epoch 52/100\n",
            "536/536 [==============================] - 1s 2ms/step - loss: 0.3290 - accuracy: 0.8663 - val_loss: 0.3711 - val_accuracy: 0.8466\n",
            "Epoch 53/100\n",
            "536/536 [==============================] - 1s 2ms/step - loss: 0.3257 - accuracy: 0.8678 - val_loss: 0.3648 - val_accuracy: 0.8474\n",
            "Epoch 54/100\n",
            "536/536 [==============================] - 1s 2ms/step - loss: 0.3346 - accuracy: 0.8660 - val_loss: 0.3645 - val_accuracy: 0.8455\n",
            "Epoch 55/100\n",
            "536/536 [==============================] - 1s 2ms/step - loss: 0.3301 - accuracy: 0.8673 - val_loss: 0.3645 - val_accuracy: 0.8482\n",
            "Epoch 56/100\n",
            "536/536 [==============================] - 1s 2ms/step - loss: 0.3358 - accuracy: 0.8619 - val_loss: 0.3647 - val_accuracy: 0.8466\n",
            "Epoch 57/100\n",
            "536/536 [==============================] - 1s 2ms/step - loss: 0.3250 - accuracy: 0.8690 - val_loss: 0.3635 - val_accuracy: 0.8493\n",
            "Epoch 58/100\n",
            "536/536 [==============================] - 1s 2ms/step - loss: 0.3357 - accuracy: 0.8571 - val_loss: 0.3634 - val_accuracy: 0.8504\n",
            "Epoch 59/100\n",
            "536/536 [==============================] - 1s 2ms/step - loss: 0.3306 - accuracy: 0.8668 - val_loss: 0.3622 - val_accuracy: 0.8501\n",
            "Epoch 60/100\n",
            "536/536 [==============================] - 1s 2ms/step - loss: 0.3319 - accuracy: 0.8663 - val_loss: 0.3622 - val_accuracy: 0.8485\n",
            "Epoch 61/100\n",
            "536/536 [==============================] - 1s 2ms/step - loss: 0.3183 - accuracy: 0.8691 - val_loss: 0.3614 - val_accuracy: 0.8516\n",
            "Epoch 62/100\n",
            "536/536 [==============================] - 1s 2ms/step - loss: 0.3359 - accuracy: 0.8671 - val_loss: 0.3625 - val_accuracy: 0.8523\n",
            "Epoch 63/100\n",
            "536/536 [==============================] - 1s 2ms/step - loss: 0.3382 - accuracy: 0.8593 - val_loss: 0.3630 - val_accuracy: 0.8516\n",
            "Epoch 64/100\n",
            "536/536 [==============================] - 1s 2ms/step - loss: 0.3294 - accuracy: 0.8672 - val_loss: 0.3624 - val_accuracy: 0.8535\n",
            "Epoch 65/100\n",
            "536/536 [==============================] - 1s 2ms/step - loss: 0.3342 - accuracy: 0.8592 - val_loss: 0.3627 - val_accuracy: 0.8527\n",
            "Epoch 66/100\n",
            "536/536 [==============================] - 1s 2ms/step - loss: 0.3274 - accuracy: 0.8655 - val_loss: 0.3612 - val_accuracy: 0.8546\n",
            "Epoch 67/100\n",
            "536/536 [==============================] - 1s 2ms/step - loss: 0.3400 - accuracy: 0.8560 - val_loss: 0.3605 - val_accuracy: 0.8527\n",
            "Epoch 68/100\n",
            "536/536 [==============================] - 1s 2ms/step - loss: 0.3330 - accuracy: 0.8559 - val_loss: 0.3607 - val_accuracy: 0.8519\n",
            "Epoch 69/100\n",
            "536/536 [==============================] - 1s 2ms/step - loss: 0.3200 - accuracy: 0.8716 - val_loss: 0.3609 - val_accuracy: 0.8557\n",
            "Epoch 70/100\n",
            "536/536 [==============================] - 1s 2ms/step - loss: 0.3212 - accuracy: 0.8749 - val_loss: 0.3608 - val_accuracy: 0.8557\n",
            "Epoch 71/100\n",
            "536/536 [==============================] - 1s 2ms/step - loss: 0.3288 - accuracy: 0.8645 - val_loss: 0.3593 - val_accuracy: 0.8546\n",
            "Epoch 72/100\n",
            "536/536 [==============================] - 1s 2ms/step - loss: 0.3304 - accuracy: 0.8627 - val_loss: 0.3612 - val_accuracy: 0.8527\n",
            "Epoch 73/100\n",
            "536/536 [==============================] - 1s 2ms/step - loss: 0.3279 - accuracy: 0.8655 - val_loss: 0.3613 - val_accuracy: 0.8542\n",
            "Epoch 74/100\n",
            "536/536 [==============================] - 1s 2ms/step - loss: 0.3309 - accuracy: 0.8661 - val_loss: 0.3596 - val_accuracy: 0.8504\n",
            "Epoch 75/100\n",
            "536/536 [==============================] - 1s 2ms/step - loss: 0.3297 - accuracy: 0.8670 - val_loss: 0.3591 - val_accuracy: 0.8523\n",
            "Epoch 76/100\n",
            "536/536 [==============================] - 1s 2ms/step - loss: 0.3337 - accuracy: 0.8615 - val_loss: 0.3586 - val_accuracy: 0.8519\n",
            "Epoch 77/100\n",
            "536/536 [==============================] - 1s 2ms/step - loss: 0.3262 - accuracy: 0.8615 - val_loss: 0.3578 - val_accuracy: 0.8538\n",
            "Epoch 78/100\n",
            "536/536 [==============================] - 1s 2ms/step - loss: 0.3290 - accuracy: 0.8608 - val_loss: 0.3578 - val_accuracy: 0.8519\n",
            "Epoch 79/100\n",
            "536/536 [==============================] - 1s 2ms/step - loss: 0.3234 - accuracy: 0.8692 - val_loss: 0.3583 - val_accuracy: 0.8531\n",
            "Epoch 80/100\n",
            "536/536 [==============================] - 1s 2ms/step - loss: 0.3246 - accuracy: 0.8653 - val_loss: 0.3577 - val_accuracy: 0.8519\n",
            "Epoch 81/100\n",
            "536/536 [==============================] - 1s 2ms/step - loss: 0.3327 - accuracy: 0.8590 - val_loss: 0.3581 - val_accuracy: 0.8531\n",
            "Epoch 82/100\n",
            "536/536 [==============================] - 1s 2ms/step - loss: 0.3141 - accuracy: 0.8754 - val_loss: 0.3582 - val_accuracy: 0.8531\n",
            "Epoch 83/100\n",
            "536/536 [==============================] - 1s 2ms/step - loss: 0.3230 - accuracy: 0.8668 - val_loss: 0.3570 - val_accuracy: 0.8535\n",
            "Epoch 84/100\n",
            "536/536 [==============================] - 1s 2ms/step - loss: 0.3272 - accuracy: 0.8649 - val_loss: 0.3574 - val_accuracy: 0.8535\n",
            "Epoch 85/100\n",
            "536/536 [==============================] - 1s 2ms/step - loss: 0.3187 - accuracy: 0.8746 - val_loss: 0.3597 - val_accuracy: 0.8538\n",
            "Epoch 86/100\n",
            "536/536 [==============================] - 1s 2ms/step - loss: 0.3360 - accuracy: 0.8556 - val_loss: 0.3569 - val_accuracy: 0.8546\n",
            "Epoch 87/100\n",
            "536/536 [==============================] - 1s 2ms/step - loss: 0.3266 - accuracy: 0.8700 - val_loss: 0.3594 - val_accuracy: 0.8508\n",
            "Epoch 88/100\n",
            "536/536 [==============================] - 1s 2ms/step - loss: 0.3233 - accuracy: 0.8646 - val_loss: 0.3582 - val_accuracy: 0.8516\n",
            "Epoch 89/100\n",
            "536/536 [==============================] - 1s 2ms/step - loss: 0.3381 - accuracy: 0.8549 - val_loss: 0.3565 - val_accuracy: 0.8519\n",
            "Epoch 90/100\n",
            "536/536 [==============================] - 1s 2ms/step - loss: 0.3109 - accuracy: 0.8705 - val_loss: 0.3563 - val_accuracy: 0.8538\n",
            "Epoch 91/100\n",
            "536/536 [==============================] - 1s 2ms/step - loss: 0.3278 - accuracy: 0.8629 - val_loss: 0.3557 - val_accuracy: 0.8523\n",
            "Epoch 92/100\n",
            "536/536 [==============================] - 1s 2ms/step - loss: 0.3218 - accuracy: 0.8678 - val_loss: 0.3554 - val_accuracy: 0.8557\n",
            "Epoch 93/100\n",
            "536/536 [==============================] - 1s 2ms/step - loss: 0.3312 - accuracy: 0.8590 - val_loss: 0.3554 - val_accuracy: 0.8557\n",
            "Epoch 94/100\n",
            "536/536 [==============================] - 1s 2ms/step - loss: 0.3156 - accuracy: 0.8697 - val_loss: 0.3564 - val_accuracy: 0.8519\n",
            "Epoch 95/100\n",
            "536/536 [==============================] - 1s 2ms/step - loss: 0.3308 - accuracy: 0.8595 - val_loss: 0.3550 - val_accuracy: 0.8546\n",
            "Epoch 96/100\n",
            "536/536 [==============================] - 1s 2ms/step - loss: 0.3193 - accuracy: 0.8718 - val_loss: 0.3545 - val_accuracy: 0.8557\n",
            "Epoch 97/100\n",
            "536/536 [==============================] - 1s 2ms/step - loss: 0.3219 - accuracy: 0.8656 - val_loss: 0.3543 - val_accuracy: 0.8561\n",
            "Epoch 98/100\n",
            "536/536 [==============================] - 1s 2ms/step - loss: 0.3084 - accuracy: 0.8682 - val_loss: 0.3545 - val_accuracy: 0.8557\n",
            "Epoch 99/100\n",
            "536/536 [==============================] - 1s 2ms/step - loss: 0.3324 - accuracy: 0.8581 - val_loss: 0.3552 - val_accuracy: 0.8554\n",
            "Epoch 100/100\n",
            "536/536 [==============================] - 1s 2ms/step - loss: 0.3169 - accuracy: 0.8712 - val_loss: 0.3560 - val_accuracy: 0.8542\n"
          ],
          "name": "stdout"
        }
      ]
    },
    {
      "cell_type": "code",
      "metadata": {
        "id": "wvPJjjxTvqgF",
        "colab": {
          "base_uri": "https://localhost:8080/"
        },
        "outputId": "ecef8448-39ed-4d4e-f183-7d59bbb214a9"
      },
      "source": [
        "# List all data in history\n",
        "model_history.history.keys()"
      ],
      "execution_count": null,
      "outputs": [
        {
          "output_type": "execute_result",
          "data": {
            "text/plain": [
              "dict_keys(['loss', 'accuracy', 'val_loss', 'val_accuracy'])"
            ]
          },
          "metadata": {
            "tags": []
          },
          "execution_count": 28
        }
      ]
    },
    {
      "cell_type": "code",
      "metadata": {
        "id": "WqKytRQ1v3oj",
        "colab": {
          "base_uri": "https://localhost:8080/",
          "height": 513
        },
        "outputId": "e5be4683-fc89-4cb7-cc93-6cf8e1ab4489"
      },
      "source": [
        "# Summarize history for accuracy\n",
        "plt.figure(figsize=(8,8))\n",
        "plt.plot(model_history.history['accuracy'])\n",
        "plt.plot(model_history.history['val_accuracy'])\n",
        "plt.title('Model Accuracy')\n",
        "plt.ylabel('Accuracy')\n",
        "plt.xlabel('Epoch')\n",
        "plt.legend(['Train', 'Test'], loc='lower right')\n",
        "plt.show()"
      ],
      "execution_count": null,
      "outputs": [
        {
          "output_type": "display_data",
          "data": {
            "image/png": "[encoded data removed]",
            "text/plain": [
              "<Figure size 576x576 with 1 Axes>"
            ]
          },
          "metadata": {
            "tags": [],
            "needs_background": "light"
          }
        }
      ]
    },
    {
      "cell_type": "code",
      "metadata": {
        "id": "zmelO9jpv7z_",
        "colab": {
          "base_uri": "https://localhost:8080/",
          "height": 513
        },
        "outputId": "43d15055-6764-4b40-d943-045840a27969"
      },
      "source": [
        "# Summarize history for loss\n",
        "plt.figure(figsize=(8,8))\n",
        "plt.plot(model_history.history['loss'])\n",
        "plt.plot(model_history.history['val_loss'])\n",
        "plt.title('Model Loss')\n",
        "plt.ylabel('Loss')\n",
        "plt.xlabel('Epoch')\n",
        "plt.legend(['Train', 'Test'], loc='upper right')\n",
        "plt.show()"
      ],
      "execution_count": null,
      "outputs": [
        {
          "output_type": "display_data",
          "data": {
            "image/png": "[encoded data removed]",
            "text/plain": [
              "<Figure size 576x576 with 1 Axes>"
            ]
          },
          "metadata": {
            "tags": [],
            "needs_background": "light"
          }
        }
      ]
    },
    {
      "cell_type": "code",
      "metadata": {
        "id": "5f8ncDHTwAJX"
      },
      "source": [
        "# Predicting the Test set results\n",
        "y_pred = classifier.predict(X_test)"
      ],
      "execution_count": null,
      "outputs": []
    },
    {
      "cell_type": "code",
      "metadata": {
        "id": "0pEUI_0bwDgu",
        "colab": {
          "base_uri": "https://localhost:8080/"
        },
        "outputId": "4fca7380-f5eb-4b30-f2ea-a54cfac723a4"
      },
      "source": [
        "y_pred"
      ],
      "execution_count": null,
      "outputs": [
        {
          "output_type": "execute_result",
          "data": {
            "text/plain": [
              "array([[0.30718964],\n",
              "       [0.30036622],\n",
              "       [0.22077361],\n",
              "       ...,\n",
              "       [0.38456544],\n",
              "       [0.19732311],\n",
              "       [0.29102033]], dtype=float32)"
            ]
          },
          "metadata": {
            "tags": []
          },
          "execution_count": 32
        }
      ]
    },
    {
      "cell_type": "code",
      "metadata": {
        "id": "-knUhQ2AwHIC",
        "colab": {
          "base_uri": "https://localhost:8080/"
        },
        "outputId": "05816342-4f10-4c79-b980-ebc59fa29038"
      },
      "source": [
        "y_pred = (y_pred > 0.5)\n",
        "y_pred"
      ],
      "execution_count": null,
      "outputs": [
        {
          "output_type": "execute_result",
          "data": {
            "text/plain": [
              "array([[False],\n",
              "       [False],\n",
              "       [False],\n",
              "       ...,\n",
              "       [False],\n",
              "       [False],\n",
              "       [False]])"
            ]
          },
          "metadata": {
            "tags": []
          },
          "execution_count": 33
        }
      ]
    },
    {
      "cell_type": "code",
      "metadata": {
        "id": "-won2iNawLf8",
        "colab": {
          "base_uri": "https://localhost:8080/"
        },
        "outputId": "7634ba07-23c7-442b-a8b1-aba89333870a"
      },
      "source": [
        "# Making the Confusion Matrix\n",
        "from sklearn.metrics import confusion_matrix\n",
        "cm = confusion_matrix(y_test, y_pred)\n",
        "cm"
      ],
      "execution_count": null,
      "outputs": [
        {
          "output_type": "execute_result",
          "data": {
            "text/plain": [
              "array([[1512,   83],\n",
              "       [ 191,  214]])"
            ]
          },
          "metadata": {
            "tags": []
          },
          "execution_count": 35
        }
      ]
    },
    {
      "cell_type": "code",
      "metadata": {
        "id": "ysBXc9K5wPfE",
        "colab": {
          "base_uri": "https://localhost:8080/",
          "height": 404
        },
        "outputId": "df187e77-e487-41a1-ce8a-faa800135173"
      },
      "source": [
        "# Plotting confusion matrix\n",
        "plt.figure(figsize=(8,6))\n",
        "sns.heatmap(cm, cmap='Blues', annot=True, xticklabels=['Did not Exit', 'Exit'], yticklabels=['Did not Exit', 'Exit'])\n",
        "plt.xlabel('Predicted values')\n",
        "plt.ylabel('Actual values')\n",
        "plt.title('Confusion Matrix for ANN model')\n",
        "plt.show()"
      ],
      "execution_count": null,
      "outputs": [
        {
          "output_type": "display_data",
          "data": {
            "image/png": "[encoded data removed]",
            "text/plain": [
              "<Figure size 576x432 with 2 Axes>"
            ]
          },
          "metadata": {
            "tags": [],
            "needs_background": "light"
          }
        }
      ]
    },
    {
      "cell_type": "code",
      "metadata": {
        "id": "7mYTI9yRMLLM",
        "colab": {
          "base_uri": "https://localhost:8080/"
        },
        "outputId": "e26c1edc-3f51-4303-faf6-2ba40b4ba1d2"
      },
      "source": [
        "# Calculate the Accuracy\n",
        "from sklearn.metrics import accuracy_score\n",
        "score = accuracy_score(y_pred,y_test)\n",
        "print('The accuracy for ANN model is: {}%'.format(score*100))\n"
      ],
      "execution_count": null,
      "outputs": [
        {
          "output_type": "stream",
          "text": [
            "The accuracy for ANN model is: 86.3%\n"
          ],
          "name": "stdout"
        }
      ]
    },
    {
      "cell_type": "code",
      "metadata": {
        "id": "7HbCtFnEOO1a"
      },
      "source": [
        "# predictions\n",
        "\n",
        "def predict_exit(sample_value):\n",
        "  \n",
        "  # Convert list to numpy array\n",
        "  sample_value = np.array(sample_value)\n",
        "\n",
        "  # Reshape because sample_value contains only 1 record\n",
        "  sample_value = sample_value.reshape(1, -1)\n",
        "\n",
        "  # Feature Scaling\n",
        "  sample_value = sc.transform(sample_value)\n",
        "\n",
        "  return classifier.predict(sample_value)"
      ],
      "execution_count": null,
      "outputs": []
    },
    {
      "cell_type": "code",
      "metadata": {
        "colab": {
          "base_uri": "https://localhost:8080/"
        },
        "id": "EhYt05o7OWCG",
        "outputId": "a5f935be-1009-4fae-823a-28ff8086b466"
      },
      "source": [
        "# Predictions\n",
        "# Value order 'CreditScore','Age','Tenure','Balance','NumOfProducts','HasCrCard','IsActiveMember','EstimatedSalary','Germany','Spain','Male'.\n",
        "sample_value = [738, 62, 10, 83008.31, 1, 1, 1, 42766.03, 1, 0, 1]\n",
        "if predict_exit(sample_value)>0.5:\n",
        "  print('Prediction: High chance of exit!')\n",
        "else:\n",
        "  print('Prediction: Low chance of exit.')"
      ],
      "execution_count": null,
      "outputs": [
        {
          "output_type": "stream",
          "text": [
            "Prediction: Low chance of exit.\n"
          ],
          "name": "stdout"
        }
      ]
    },
    {
      "cell_type": "code",
      "metadata": {
        "colab": {
          "base_uri": "https://localhost:8080/"
        },
        "id": "_OkkAmM1Oach",
        "outputId": "8eb4433c-f2d5-4e91-85b7-e49fb1dfb5d4"
      },
      "source": [
        "# Predictions\n",
        "# Value order 'CreditScore','Age','Tenure','Balance','NumOfProducts','HasCrCard','IsActiveMember','EstimatedSalary','Germany','Spain','Male'.\n",
        "sample_value = [805, 45, 9, 116585.97, 1, 1, 0, 189428.75, 1, 0, 0]\n",
        "if predict_exit(sample_value)>0.5:\n",
        "  print('Prediction: High chance of exit!')\n",
        "else:\n",
        "  print('Prediction: Low chance of exit.')"
      ],
      "execution_count": null,
      "outputs": [
        {
          "output_type": "stream",
          "text": [
            "Prediction: High chance of exit!\n"
          ],
          "name": "stdout"
        }
      ]
    },
    {
      "cell_type": "code",
      "metadata": {
        "id": "iN_Z4IEzO0Pq"
      },
      "source": [
        ""
      ],
      "execution_count": null,
      "outputs": []
    }
  ]
}